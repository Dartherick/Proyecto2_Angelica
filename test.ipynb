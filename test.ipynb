{
 "cells": [
  {
   "cell_type": "code",
   "execution_count": 8,
   "metadata": {},
   "outputs": [],
   "source": [
    "import numpy as np\n",
    "from time import time"
   ]
  },
  {
   "cell_type": "code",
   "execution_count": 9,
   "metadata": {},
   "outputs": [],
   "source": [
    "Start_Time = time()"
   ]
  },
  {
   "cell_type": "code",
   "execution_count": 13,
   "metadata": {},
   "outputs": [],
   "source": [
    "Datos_Humedad = np.zeros([1,2], dtype=float)\n",
    "Datos_Temperatura = np.zeros([1,2], dtype=float)\n",
    "Datos_Viento = np.zeros([1,2], dtype=float)"
   ]
  },
  {
   "cell_type": "code",
   "execution_count": 22,
   "metadata": {},
   "outputs": [
    {
     "data": {
      "text/plain": [
       "array([[   0.        ,    0.        ],\n",
       "       [1424.72681355,   12.        ],\n",
       "       [1425.74277449,   12.        ],\n",
       "       [1426.46717763,   12.        ],\n",
       "       [1429.81711602,   12.        ],\n",
       "       [1436.22261643,   12.        ]])"
      ]
     },
     "execution_count": 22,
     "metadata": {},
     "output_type": "execute_result"
    }
   ],
   "source": [
    "Datos_Humedad = np.concatenate([Datos_Humedad, [[time() - Start_Time, float(\"12\")]]])\n",
    "Datos_Humedad"
   ]
  },
  {
   "cell_type": "code",
   "execution_count": 12,
   "metadata": {},
   "outputs": [],
   "source": [
    "def EstacionClimatica():\n",
    "\n",
    "    if (len(Datos_Humedad) != 1) or (len(Datos_Temperatura) !=1) or (len(Datos_Viento) != 1):\n",
    "        Humeda              =   Datos_Humedad[-1][1]\n",
    "        Temperatura         =   Datos_Temperatura[-1][1]\n",
    "        Velocidad_Viento    =   Datos_Viento[-1][1]\n",
    "\n",
    "        if Velocidad_Viento == 0:\n",
    "            #Ambiente\n",
    "            #Baja probabilidad de lluvias - Vientos normales\n",
    "            if ((Temperatura >= 25) and (Temperatura <= 26)) and ((Humedad >= 66) and (Humedad <= 74.5)):\n",
    "                self.Clima = 1\n",
    "        \n",
    "        elif (Velocidad_Viento >= 1) and (Velocidad_Viento <= 33):\n",
    "            #Ambiente - Slow\n",
    "            #Baja probabilidad de lluvia - Vientos Normales\n",
    "            if ((Temperatura >= 25.1) and (Temperatura <= 26.3)) and ((Humedad >= 67.5) and (Humedad <= 75.1)):\n",
    "                self.Clima = 2\n",
    "            #Caliente - Slow\n",
    "            #40% probabilidad de lluvia - vientos normales, puede llover de 1 a 5 horas\n",
    "            elif ((Temperatura >= 30.4) and (Temperatura <= 36.4)) and ((Humedad >= 31.5) and (Humedad <= 61.3)):\n",
    "                self.Clima = 4\n",
    "        \n",
    "        elif (Velocidad_Viento >= 34) and (Velocidad_Viento <= 39):\n",
    "            #Ambiente - Fast\n",
    "            #Baja probabilidad de lluvia - vientos fuertes\n",
    "            if ((Temperatura >= 27.4) and (Temperatura <= 28.9)) and ((Humedad >= 65.3) and (Humedad <= 67.95)):\n",
    "                self.Clima = 3\n",
    "            #Caliente - Fast\n",
    "            #90% probabilidad de lluvia - vientos fuertes, puede llover de 7 a 30 minutos\n",
    "            elif ((Temperatura >= 39.9) and (Temperatura <= 60)) and ((Humedad >= 19.6) and (Humedad <= 48.2)):\n",
    "                self.Clima = 5"
   ]
  },
  {
   "cell_type": "code",
   "execution_count": 24,
   "metadata": {},
   "outputs": [],
   "source": [
    "def Aceptabilidad():\n",
    "    if Fact and Disponibilidad and Clima == 1:\n",
    "        Resultado = True\n",
    "    else:\n",
    "        Resultado = False"
   ]
  },
  {
   "cell_type": "code",
   "execution_count": 2,
   "metadata": {},
   "outputs": [
    {
     "name": "stdout",
     "output_type": "stream",
     "text": [
      "3.33\n"
     ]
    }
   ],
   "source": []
  }
 ],
 "metadata": {
  "kernelspec": {
   "display_name": "P2_Angelica",
   "language": "python",
   "name": "python3"
  },
  "language_info": {
   "codemirror_mode": {
    "name": "ipython",
    "version": 3
   },
   "file_extension": ".py",
   "mimetype": "text/x-python",
   "name": "python",
   "nbconvert_exporter": "python",
   "pygments_lexer": "ipython3",
   "version": "3.11.7"
  }
 },
 "nbformat": 4,
 "nbformat_minor": 2
}
